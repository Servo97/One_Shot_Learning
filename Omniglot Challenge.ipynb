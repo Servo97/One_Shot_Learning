{
 "cells": [
  {
   "cell_type": "code",
   "execution_count": 26,
   "metadata": {
    "scrolled": true
   },
   "outputs": [],
   "source": [
    "\"\"\"Import Necessary Libraries\"\"\"\n",
    "from keras.layers import Conv2D, Dense, merge,Lambda,Input, MaxPooling2D,Lambda,Flatten\n",
    "from keras.models import Model, Sequential\n",
    "from keras.regularizers import l2\n",
    "from keras import backend as K\n",
    "from keras.optimizers import SGD,Adam\n",
    "from keras.losses import binary_crossentropy\n",
    "\n",
    "import numpy as np\n",
    "import os\n",
    "import pickle\n",
    "import matplotlib.pyplot as plt\n",
    "import seaborn as sns\n",
    "from sklearn.utils import shuffle\n",
    "import sys\n",
    "from scipy.misc import imread\n",
    "\n",
    "%matplotlib inline"
   ]
  },
  {
   "cell_type": "code",
   "execution_count": 27,
   "metadata": {},
   "outputs": [],
   "source": [
    "\"\"\"Preprocess the omniglot dataset and pickle it into an array that's easy\n",
    "    to index my character type.\"\"\"\n",
    "\n",
    "path = \"./\"\n",
    "save = os.getcwd()\n",
    "data_path = os.path.join(path, \"python\")\n",
    "train_folder = os.path.join(path,'images_background')\n",
    "val_folder = os.path.join(path,'images_evaluation')\n",
    "\n",
    "save_path = save\n",
    "lang_dict = {}\n",
    "\n",
    "def loadimgs(path,n=0):\n",
    "    # If data not already unzipped, unzip it.\n",
    "    if not os.path.exists(path):\n",
    "        print(\"unzipping\")\n",
    "        os.chdir(data_path)\n",
    "        os.system(\"unzip {}\".format(path+\".zip\" ))\n",
    "\n",
    "    X=[]\n",
    "    y = []\n",
    "    cat_dict = {}\n",
    "    lang_dict = {}\n",
    "    curr_y = n\n",
    "\n",
    "    # Load every alphabet seperately so we can isolate them later\n",
    "    for alphabet in os.listdir(path):\n",
    "        print(\"loading alphabet: \" + alphabet)\n",
    "        lang_dict[alphabet] = [curr_y,None]\n",
    "        alphabet_path = os.path.join(path,alphabet)\n",
    "\n",
    "        # Every letter/category has it's own column in the array, so  load seperately\n",
    "        for letter in os.listdir(alphabet_path):\n",
    "            cat_dict[curr_y] = (alphabet, letter)\n",
    "            category_images=[]\n",
    "            letter_path = os.path.join(alphabet_path, letter)\n",
    "            # Every column has 20 images, finally load the images in an array.\n",
    "            for filename in os.listdir(letter_path):\n",
    "                image_path = os.path.join(letter_path, filename)\n",
    "                image = imread(image_path)\n",
    "                category_images.append(image)\n",
    "                y.append(curr_y)\n",
    "            try:\n",
    "                X.append(np.stack(category_images))\n",
    "            # Edge case  - last one\n",
    "            except ValueError as e:\n",
    "                print(e)\n",
    "                print(\"error - category_images:\", category_images)\n",
    "            curr_y += 1\n",
    "            lang_dict[alphabet][1] = curr_y - 1\n",
    "    \n",
    "    # Stack all targets and inputs into 1 variable each.\n",
    "    y = np.vstack(y)\n",
    "    X = np.stack(X)\n",
    "    return X,y,lang_dict"
   ]
  },
  {
   "cell_type": "code",
   "execution_count": 28,
   "metadata": {},
   "outputs": [
    {
     "name": "stdout",
     "output_type": "stream",
     "text": [
      "unzipping\n",
      "loading alphabet: Alphabet_of_the_Magi\n",
      "loading alphabet: Anglo-Saxon_Futhorc\n"
     ]
    },
    {
     "name": "stderr",
     "output_type": "stream",
     "text": [
      "C:\\Users\\sbpat\\AppData\\Local\\Continuum\\anaconda3\\envs\\DLENV\\lib\\site-packages\\ipykernel_launcher.py:40: DeprecationWarning: `imread` is deprecated!\n",
      "`imread` is deprecated in SciPy 1.0.0, and will be removed in 1.2.0.\n",
      "Use ``imageio.imread`` instead.\n"
     ]
    },
    {
     "name": "stdout",
     "output_type": "stream",
     "text": [
      "loading alphabet: Arcadian\n",
      "loading alphabet: Armenian\n",
      "loading alphabet: Asomtavruli_(Georgian)\n",
      "loading alphabet: Balinese\n",
      "loading alphabet: Bengali\n",
      "loading alphabet: Blackfoot_(Canadian_Aboriginal_Syllabics)\n",
      "loading alphabet: Braille\n",
      "loading alphabet: Burmese_(Myanmar)\n",
      "loading alphabet: Cyrillic\n",
      "loading alphabet: Early_Aramaic\n",
      "loading alphabet: Futurama\n",
      "loading alphabet: Grantha\n",
      "loading alphabet: Greek\n",
      "loading alphabet: Gujarati\n",
      "loading alphabet: Hebrew\n",
      "loading alphabet: Inuktitut_(Canadian_Aboriginal_Syllabics)\n",
      "loading alphabet: Japanese_(hiragana)\n",
      "loading alphabet: Japanese_(katakana)\n",
      "loading alphabet: Korean\n",
      "loading alphabet: Latin\n",
      "loading alphabet: Malay_(Jawi_-_Arabic)\n",
      "loading alphabet: Mkhedruli_(Georgian)\n",
      "loading alphabet: N_Ko\n",
      "loading alphabet: Ojibwe_(Canadian_Aboriginal_Syllabics)\n",
      "loading alphabet: Sanskrit\n",
      "loading alphabet: Syriac_(Estrangelo)\n",
      "loading alphabet: Tagalog\n",
      "loading alphabet: Tifinagh\n",
      "loading alphabet: Angelic\n",
      "loading alphabet: Atemayar_Qelisayer\n",
      "loading alphabet: Atlantean\n",
      "loading alphabet: Aurek-Besh\n",
      "loading alphabet: Avesta\n",
      "loading alphabet: Ge_ez\n",
      "loading alphabet: Glagolitic\n",
      "loading alphabet: Gurmukhi\n",
      "loading alphabet: Kannada\n",
      "loading alphabet: Keble\n",
      "loading alphabet: Malayalam\n",
      "loading alphabet: Manipuri\n",
      "loading alphabet: Mongolian\n",
      "loading alphabet: Old_Church_Slavonic_(Cyrillic)\n",
      "loading alphabet: Oriya\n",
      "loading alphabet: Sylheti\n",
      "loading alphabet: Syriac_(Serto)\n",
      "loading alphabet: Tengwar\n",
      "loading alphabet: Tibetan\n",
      "loading alphabet: ULOG\n"
     ]
    }
   ],
   "source": [
    "#Dump stacked input images in pickle files\n",
    "X,y,c=loadimgs(train_folder)\n",
    "with open(os.path.join(save_path,\"train.pickle\"), \"wb\") as f:\n",
    "    pickle.dump((X,c),f)\n",
    "\n",
    "X,y,c=loadimgs(val_folder)\n",
    "with open(os.path.join(save_path,\"val.pickle\"), \"wb\") as f:\n",
    "    pickle.dump((X,c),f)"
   ]
  },
  {
   "cell_type": "code",
   "execution_count": 49,
   "metadata": {},
   "outputs": [
    {
     "data": {
      "text/plain": [
       "'F:\\\\Co-Curriculars\\\\DEEP LEARNING\\\\FELLOWSHIP AI\\\\keras-oneshot-master'"
      ]
     },
     "execution_count": 49,
     "metadata": {},
     "output_type": "execute_result"
    }
   ],
   "source": [
    "os.getcwd()"
   ]
  },
  {
   "cell_type": "code",
   "execution_count": 48,
   "metadata": {},
   "outputs": [],
   "source": [
    "os.chdir(\"..\")"
   ]
  },
  {
   "cell_type": "code",
   "execution_count": 29,
   "metadata": {},
   "outputs": [],
   "source": [
    "\"\"\"Define Custom Initializers as described in the paper by Univerity of Toronto\"\"\"\n",
    "# Siamese Neural Networks for One-shot Image Recognition, Gregory Koch et al., 2015, ICML\n",
    "# These initializers would be used to initialize kernel and bias weights in convolutional layers\n",
    "def w_init(shape,name=None):\n",
    "    values = np.random.normal(loc=0,scale=1e-2,size=shape)\n",
    "    return K.variable(values,name=name)\n",
    "\n",
    "def b_init(shape,name=None):\n",
    "    values = np.random.normal(loc=0.5,scale=1e-2,size=shape)\n",
    "    return K.variable(values,name=name)"
   ]
  },
  {
   "cell_type": "code",
   "execution_count": 30,
   "metadata": {},
   "outputs": [],
   "source": [
    "\"\"\"Construct the model\"\"\"\n",
    "\"\"\"This model was proposed in the paper. I tried a bunch of other models, increasing complexity and no. of layers, but it \n",
    "increased training time drastically without much improvement over validation accuracy. \n",
    "This model did fit the best with minimum amount of time.\n",
    "\n",
    "Hence, for the submission, I'm keeping the original model only. I will keep\n",
    "experimenting with others in the meanwhile.\"\"\"\n",
    "\n",
    "# Omniglot data is of shape (105,105) and greyscale. \n",
    "input_shape = (105,105,1)\n",
    "upper_ip = Input(input_shape)\n",
    "lower_ip = Input(input_shape)\n",
    "\n",
    "# Create a standard CNN model connected to a 4096 FC layer\n",
    "model = Sequential()\n",
    "model.add(Conv2D(64,(10,10),activation='relu',input_shape=input_shape,\n",
    "                kernel_initializer = w_init,kernel_regularizer=l2(2e-4)))\n",
    "model.add(MaxPooling2D())\n",
    "model.add(Conv2D(128,(7,7),activation='relu',\n",
    "                   kernel_regularizer=l2(2e-4),kernel_initializer=w_init,bias_initializer=b_init))\n",
    "model.add(MaxPooling2D())\n",
    "model.add(Conv2D(128,(4,4),activation='relu',kernel_initializer=w_init,kernel_regularizer=l2(2e-4),bias_initializer=b_init))\n",
    "model.add(MaxPooling2D())\n",
    "model.add(Conv2D(256,(4,4),activation='relu',kernel_initializer=w_init,kernel_regularizer=l2(2e-4),bias_initializer=b_init))\n",
    "model.add(Flatten())\n",
    "model.add(Dense(4096,activation=\"sigmoid\",kernel_regularizer=l2(1e-3),kernel_initializer=w_init,bias_initializer=b_init))\n",
    "\n",
    "# Initialize the model twice for the 2 brances of the siamese network.\n",
    "encoded_up = model(upper_ip)\n",
    "encoded_down = model(lower_ip)\n",
    "\n",
    "# Calculate L1 distance between the two flattened layers\n",
    "merge = Lambda(lambda layers:K.abs(layers[0]-layers[1]))\n",
    "merge_distance = merge([encoded_up,encoded_down])\n",
    "\n",
    "# Define Last layer which connects 4096 dense layer to a single output node\n",
    "# with sigmoid activation to give output 0 or 1\n",
    "prediction = Dense(1,activation='sigmoid',bias_initializer=b_init)(merge_distance)\n",
    "\n",
    "# Create Siamese CNN with 2 inputs and 1 output.\n",
    "siamese = Model(inputs=[upper_ip,lower_ip],outputs=prediction)\n",
    "\n",
    "# Define learning rate and optimizer.\n",
    "learning_rate = 1e-5\n",
    "optimizer = Adam(learning_rate)\n",
    "\n",
    "# Compile the model\n",
    "siamese.compile(loss='binary_crossentropy',optimizer = optimizer)"
   ]
  },
  {
   "cell_type": "code",
   "execution_count": 31,
   "metadata": {},
   "outputs": [
    {
     "data": {
      "text/plain": [
       "38951745"
      ]
     },
     "execution_count": 31,
     "metadata": {},
     "output_type": "execute_result"
    }
   ],
   "source": [
    "# Check no. of paramters to be trained.\n",
    "siamese.count_params()"
   ]
  },
  {
   "cell_type": "code",
   "execution_count": 50,
   "metadata": {},
   "outputs": [
    {
     "name": "stdout",
     "output_type": "stream",
     "text": [
      "Background dict_keys(['Alphabet_of_the_Magi', 'Anglo-Saxon_Futhorc', 'Arcadian', 'Armenian', 'Asomtavruli_(Georgian)', 'Balinese', 'Bengali', 'Blackfoot_(Canadian_Aboriginal_Syllabics)', 'Braille', 'Burmese_(Myanmar)', 'Cyrillic', 'Early_Aramaic', 'Futurama', 'Grantha', 'Greek', 'Gujarati', 'Hebrew', 'Inuktitut_(Canadian_Aboriginal_Syllabics)', 'Japanese_(hiragana)', 'Japanese_(katakana)', 'Korean', 'Latin', 'Malay_(Jawi_-_Arabic)', 'Mkhedruli_(Georgian)', 'N_Ko', 'Ojibwe_(Canadian_Aboriginal_Syllabics)', 'Sanskrit', 'Syriac_(Estrangelo)', 'Tagalog', 'Tifinagh'])\n",
      "Evaluation dict_keys(['Angelic', 'Atemayar_Qelisayer', 'Atlantean', 'Aurek-Besh', 'Avesta', 'Ge_ez', 'Glagolitic', 'Gurmukhi', 'Kannada', 'Keble', 'Malayalam', 'Manipuri', 'Mongolian', 'Old_Church_Slavonic_(Cyrillic)', 'Oriya', 'Sylheti', 'Syriac_(Serto)', 'Tengwar', 'Tibetan', 'ULOG'])\n"
     ]
    }
   ],
   "source": [
    "\"\"\"Load pickled data from train.pickle and val.pickle\"\"\"\n",
    "\n",
    "path = \"./\"\n",
    "with open(os.path.join(path,\"train.pickle\"),'rb') as f:\n",
    "    (x,c) = pickle.load(f)\n",
    "\n",
    "with open(os.path.join(path,\"val.pickle\"),\"rb\") as f:\n",
    "    (xval,cval) = pickle.load(f)\n",
    "    \n",
    "print(\"Background\",c.keys())\n",
    "print(\"Evaluation\",cval.keys())"
   ]
  },
  {
   "cell_type": "code",
   "execution_count": 51,
   "metadata": {},
   "outputs": [],
   "source": [
    "\"\"\"Load data and their category into dictionaries and define functions\"\"\"\n",
    "class Siamese_Net:\n",
    "    # Load batches and testing tasks to a siamese network\n",
    "    def __init__(self,path,data_subsets=['train','val']):\n",
    "        self.data = {}\n",
    "        self.categories = {}\n",
    "        self.info = {}\n",
    "        \n",
    "        for name in data_subsets:\n",
    "            file_path = os.path.join(path,name+\".pickle\")\n",
    "            print(\"loading data from {}\".format(file_path))\n",
    "            with open(file_path,\"rb\") as f:\n",
    "                (x,c) = pickle.load(f)\n",
    "                self.data[name]=x\n",
    "                self.categories[name]=c\n",
    "    \n",
    "    # Return `batch_size` number of input pairs and targets for training purposes            \n",
    "    def get_batch(self,batch_size,s=\"train\"):\n",
    "        # Create batch of n pais, half same class, half different class to train network\n",
    "        x = self.data[s]\n",
    "        n_classes,n_examples,w,h = x.shape\n",
    "        \n",
    "        # Randomly sample several classes to use in the batch\n",
    "        categories = np.random.choice(n_classes,size=(batch_size,),replace=False)\n",
    "        \n",
    "        # Initialize 2 empty arrays for ip image batch\n",
    "        pairs = [np.zeros((batch_size, h, w, 1)) for i in range(2)]\n",
    "        \n",
    "        # Init vector for targets and make 1 half of it '1's, so 2nd half of batch has same class\n",
    "        targets = np.zeros((batch_size,))\n",
    "        targets[batch_size//2:]=1\n",
    "        for i in range(batch_size):\n",
    "            category = categories[i]\n",
    "            idx_1 = np.random.randint(0,n_examples)\n",
    "            pairs[0][i,:,:,:] = x[category,idx_1].reshape(w,h,1)\n",
    "            idx_2 = np.random.randint(0,n_examples)\n",
    "            \n",
    "            # Choose same class images for 1st half, different for 2nd half\n",
    "            if i>=batch_size//2:\n",
    "                category_2 = category\n",
    "            else:\n",
    "                # Add a random no. to the category modulo n classes to ensure different category\n",
    "                category_2 = (category+np.random.randint(1,n_classes))%n_classes\n",
    "            pairs[1][i,:,:,:] = x[category_2,idx_2].reshape(w,h,1)\n",
    "        return pairs,targets\n",
    "    \n",
    "    # Generate a bunch of pairs and targets and send them to the training loop\n",
    "    def generate(self,batch_size, s='train'):\n",
    "        while True:\n",
    "            pairs,targets = self.get_batch(batch_size,s)\n",
    "            yield (pairs,targets)\n",
    "    \n",
    "    # Generate input pairs and targets for validation and testing purposes\n",
    "    def make_oneshot_task(self,N,s='val',language=None):\n",
    "        X = self.data[s]\n",
    "        n_classes,n_examples,w,h = X.shape\n",
    "        indices = np.random.randint(0,n_examples,size=(N,))\n",
    "        if language is not None:\n",
    "            low,high = self.categories[s][language]\n",
    "            if N>high-low:\n",
    "                raise ValueError(\"This language ({}) has less than {} letters\").format(language,N)\n",
    "            categories = np.random.choice(range(low,high),size=(N,),replace=False)\n",
    "            \n",
    "        else:\n",
    "            # If no language specified, pick a bunch of random letters\n",
    "            categories = np.random.choice(range(n_classes),size=(N,),replace=False)\n",
    "        true_category = categories[0]\n",
    "        \n",
    "        ex1,ex2 = np.random.choice(n_examples,replace=False,size=(2,))\n",
    "        test_image = np.asarray([X[true_category,ex1,:,:]]*N).reshape(N,w,h,1)\n",
    "        support_set = X[categories,indices,:,:]\n",
    "        support_set[0,:,:] = X[true_category,ex2]\n",
    "        support_set = support_set.reshape(N,w,h,1)\n",
    "        targets = np.zeros((N,))\n",
    "        targets[0] = 1\n",
    "        targets,test_image,support_set = shuffle(targets,test_image,support_set)\n",
    "        pairs = [test_image,support_set]\n",
    "        \n",
    "        return pairs,targets\n",
    "   \n",
    "    # Generate testing pairs and targets and pass them through the model to get accuracy\n",
    "    def test_oneshot(self,model,N,k,s=\"val\",verbose=0):\n",
    "        n_correct = 0\n",
    "        if verbose:\n",
    "            print(\"Evaluating model on {} random {} way one-shot learning tasks ...\".format(k,N))\n",
    "        for i in range(k):\n",
    "            ips, tgts = self.make_oneshot_task(N,s)\n",
    "            probs = model.predict(ips)\n",
    "            if np.argmax(probs) == np.argmax(tgts):\n",
    "                n_correct+=1\n",
    "        accuracy = (100.0*n_correct/k)\n",
    "        if verbose:\n",
    "            print(\"Got an avg of {}% {} way one-shot learning accuracy\".format(accuracy,N))\n",
    "        return accuracy\n",
    "    \n",
    "    #training function \n",
    "    def train(self,model,epochs,verbosity):\n",
    "        model.fit_generator(self.generate(batch_size))"
   ]
  },
  {
   "cell_type": "code",
   "execution_count": 52,
   "metadata": {},
   "outputs": [
    {
     "name": "stdout",
     "output_type": "stream",
     "text": [
      "loading data from ./train.pickle\n",
      "loading data from ./val.pickle\n"
     ]
    }
   ],
   "source": [
    "\"\"\"Create an object of the Siamese_Net class to use its functions later\"\"\"\n",
    "loader = Siamese_Net(path)"
   ]
  },
  {
   "cell_type": "code",
   "execution_count": 53,
   "metadata": {},
   "outputs": [
    {
     "data": {
      "image/png": "[encoded data removed]",
      "text/plain": [
       "<Figure size 432x288 with 2 Axes>"
      ]
     },
     "metadata": {
      "needs_background": "light"
     },
     "output_type": "display_data"
    }
   ],
   "source": [
    "\"\"\"Code for representing validation cycle\n",
    "\n",
    "1. A character is chosen at random. \n",
    "2. N different characters are paired with it in make_oneshot_task function\n",
    "3. All the pairs are fit into a matrix and displayed.\"\"\"\n",
    "def concat_images(X):\n",
    "    # Concatenate a bunch of images in a matrix to plot\n",
    "    nc,h,w,_ = X.shape\n",
    "    X = X.reshape(nc,h,w)\n",
    "    n = np.ceil(np.sqrt(nc)).astype(\"int8\")\n",
    "    img = np.zeros((n*w,n*h))\n",
    "    x=0\n",
    "    y=0\n",
    "    for example in range(nc):\n",
    "        img[x*w:(x+1)*w,y*h:(y+1)*h] = X[example]\n",
    "        y+=1\n",
    "        if y >= n:\n",
    "            y = 0\n",
    "            x+=1\n",
    "    return img\n",
    "\n",
    "def plot_oneshot_task(pairs):\n",
    "    # Take a one-shot task given to a siamese net \n",
    "    fig,(ax1,ax2) = plt.subplots(2)\n",
    "    ax1.matshow(pairs[0][0].reshape(105,105),cmap='gray')\n",
    "    img = concat_images(pairs[1])\n",
    "    ax1.get_yaxis().set_visible(False)\n",
    "    ax1.get_xaxis().set_visible(False)\n",
    "    ax2.matshow(img,cmap='gray')\n",
    "    plt.xticks([])\n",
    "    plt.yticks([])\n",
    "    plt.show()\n",
    "    \n",
    "pairs,targets = loader.make_oneshot_task(20,\"train\",\"Sanskrit\")\n",
    "plot_oneshot_task(pairs)\n",
    "\n",
    "# In the current example, the letter matches with the 19th character, thus target value for 19th character will be 1\n",
    "# For all others, it will be 0."
   ]
  },
  {
   "cell_type": "code",
   "execution_count": 54,
   "metadata": {},
   "outputs": [
    {
     "name": "stdout",
     "output_type": "stream",
     "text": [
      "training\n",
      "4.5184593\n",
      "4.504605\n",
      "4.4932117\n",
      "4.4786215\n",
      "4.4624867\n",
      "4.45266\n",
      "4.4438763\n",
      "4.4462686\n",
      "4.4463387\n",
      "4.4332027\n",
      "evaluating\n",
      "Evaluating model on 250 random 20 way one-shot learning tasks ...\n",
      "Got an avg of 35.2% 20 way one-shot learning accuracy\n",
      "saving model\n",
      "4.4300957\n",
      "4.437707\n",
      "4.417111\n",
      "4.4189153\n",
      "4.418826\n",
      "4.4010015\n",
      "4.392983\n",
      "4.3916526\n",
      "4.381467\n",
      "4.380092\n",
      "evaluating\n",
      "Evaluating model on 250 random 20 way one-shot learning tasks ...\n"
     ]
    },
    {
     "ename": "KeyboardInterrupt",
     "evalue": "",
     "output_type": "error",
     "traceback": [
      "\u001b[1;31m---------------------------------------------------------------------------\u001b[0m",
      "\u001b[1;31mKeyboardInterrupt\u001b[0m                         Traceback (most recent call last)",
      "\u001b[1;32m<ipython-input-54-4410ae11aaf2>\u001b[0m in \u001b[0;36m<module>\u001b[1;34m\u001b[0m\n\u001b[0;32m     23\u001b[0m     \u001b[1;32mif\u001b[0m \u001b[0mi\u001b[0m\u001b[1;33m%\u001b[0m\u001b[0meval_every\u001b[0m \u001b[1;33m==\u001b[0m \u001b[1;36m0\u001b[0m\u001b[1;33m:\u001b[0m\u001b[1;33m\u001b[0m\u001b[1;33m\u001b[0m\u001b[0m\n\u001b[0;32m     24\u001b[0m         \u001b[0mprint\u001b[0m\u001b[1;33m(\u001b[0m\u001b[1;34m\"evaluating\"\u001b[0m\u001b[1;33m)\u001b[0m\u001b[1;33m\u001b[0m\u001b[1;33m\u001b[0m\u001b[0m\n\u001b[1;32m---> 25\u001b[1;33m         \u001b[0mval_acc\u001b[0m \u001b[1;33m=\u001b[0m \u001b[0mloader\u001b[0m\u001b[1;33m.\u001b[0m\u001b[0mtest_oneshot\u001b[0m\u001b[1;33m(\u001b[0m\u001b[0msiamese\u001b[0m\u001b[1;33m,\u001b[0m\u001b[0mN_way\u001b[0m\u001b[1;33m,\u001b[0m\u001b[0mn_val\u001b[0m\u001b[1;33m,\u001b[0m\u001b[0mverbose\u001b[0m\u001b[1;33m=\u001b[0m\u001b[1;32mTrue\u001b[0m\u001b[1;33m)\u001b[0m\u001b[1;33m\u001b[0m\u001b[1;33m\u001b[0m\u001b[0m\n\u001b[0m\u001b[0;32m     26\u001b[0m         \u001b[1;32mif\u001b[0m \u001b[0mval_acc\u001b[0m \u001b[1;33m>=\u001b[0m \u001b[0mbest\u001b[0m\u001b[1;33m:\u001b[0m\u001b[1;33m\u001b[0m\u001b[1;33m\u001b[0m\u001b[0m\n\u001b[0;32m     27\u001b[0m             \u001b[0mprint\u001b[0m\u001b[1;33m(\u001b[0m\u001b[1;34m\"saving model\"\u001b[0m\u001b[1;33m)\u001b[0m\u001b[1;33m\u001b[0m\u001b[1;33m\u001b[0m\u001b[0m\n",
      "\u001b[1;32m<ipython-input-51-4be1c5a0fb11>\u001b[0m in \u001b[0;36mtest_oneshot\u001b[1;34m(self, model, N, k, s, verbose)\u001b[0m\n\u001b[0;32m     86\u001b[0m         \u001b[1;32mfor\u001b[0m \u001b[0mi\u001b[0m \u001b[1;32min\u001b[0m \u001b[0mrange\u001b[0m\u001b[1;33m(\u001b[0m\u001b[0mk\u001b[0m\u001b[1;33m)\u001b[0m\u001b[1;33m:\u001b[0m\u001b[1;33m\u001b[0m\u001b[1;33m\u001b[0m\u001b[0m\n\u001b[0;32m     87\u001b[0m             \u001b[0mips\u001b[0m\u001b[1;33m,\u001b[0m \u001b[0mtgts\u001b[0m \u001b[1;33m=\u001b[0m \u001b[0mself\u001b[0m\u001b[1;33m.\u001b[0m\u001b[0mmake_oneshot_task\u001b[0m\u001b[1;33m(\u001b[0m\u001b[0mN\u001b[0m\u001b[1;33m,\u001b[0m\u001b[0ms\u001b[0m\u001b[1;33m)\u001b[0m\u001b[1;33m\u001b[0m\u001b[1;33m\u001b[0m\u001b[0m\n\u001b[1;32m---> 88\u001b[1;33m             \u001b[0mprobs\u001b[0m \u001b[1;33m=\u001b[0m \u001b[0mmodel\u001b[0m\u001b[1;33m.\u001b[0m\u001b[0mpredict\u001b[0m\u001b[1;33m(\u001b[0m\u001b[0mips\u001b[0m\u001b[1;33m)\u001b[0m\u001b[1;33m\u001b[0m\u001b[1;33m\u001b[0m\u001b[0m\n\u001b[0m\u001b[0;32m     89\u001b[0m             \u001b[1;32mif\u001b[0m \u001b[0mnp\u001b[0m\u001b[1;33m.\u001b[0m\u001b[0margmax\u001b[0m\u001b[1;33m(\u001b[0m\u001b[0mprobs\u001b[0m\u001b[1;33m)\u001b[0m \u001b[1;33m==\u001b[0m \u001b[0mnp\u001b[0m\u001b[1;33m.\u001b[0m\u001b[0margmax\u001b[0m\u001b[1;33m(\u001b[0m\u001b[0mtgts\u001b[0m\u001b[1;33m)\u001b[0m\u001b[1;33m:\u001b[0m\u001b[1;33m\u001b[0m\u001b[1;33m\u001b[0m\u001b[0m\n\u001b[0;32m     90\u001b[0m                 \u001b[0mn_correct\u001b[0m\u001b[1;33m+=\u001b[0m\u001b[1;36m1\u001b[0m\u001b[1;33m\u001b[0m\u001b[1;33m\u001b[0m\u001b[0m\n",
      "\u001b[1;32m~\\AppData\\Local\\Continuum\\anaconda3\\envs\\DLENV\\lib\\site-packages\\keras\\engine\\training.py\u001b[0m in \u001b[0;36mpredict\u001b[1;34m(self, x, batch_size, verbose, steps)\u001b[0m\n\u001b[0;32m   1167\u001b[0m                                             \u001b[0mbatch_size\u001b[0m\u001b[1;33m=\u001b[0m\u001b[0mbatch_size\u001b[0m\u001b[1;33m,\u001b[0m\u001b[1;33m\u001b[0m\u001b[1;33m\u001b[0m\u001b[0m\n\u001b[0;32m   1168\u001b[0m                                             \u001b[0mverbose\u001b[0m\u001b[1;33m=\u001b[0m\u001b[0mverbose\u001b[0m\u001b[1;33m,\u001b[0m\u001b[1;33m\u001b[0m\u001b[1;33m\u001b[0m\u001b[0m\n\u001b[1;32m-> 1169\u001b[1;33m                                             steps=steps)\n\u001b[0m\u001b[0;32m   1170\u001b[0m \u001b[1;33m\u001b[0m\u001b[0m\n\u001b[0;32m   1171\u001b[0m     def train_on_batch(self, x, y,\n",
      "\u001b[1;32m~\\AppData\\Local\\Continuum\\anaconda3\\envs\\DLENV\\lib\\site-packages\\keras\\engine\\training_arrays.py\u001b[0m in \u001b[0;36mpredict_loop\u001b[1;34m(model, f, ins, batch_size, verbose, steps)\u001b[0m\n\u001b[0;32m    292\u001b[0m                 \u001b[0mins_batch\u001b[0m\u001b[1;33m[\u001b[0m\u001b[0mi\u001b[0m\u001b[1;33m]\u001b[0m \u001b[1;33m=\u001b[0m \u001b[0mins_batch\u001b[0m\u001b[1;33m[\u001b[0m\u001b[0mi\u001b[0m\u001b[1;33m]\u001b[0m\u001b[1;33m.\u001b[0m\u001b[0mtoarray\u001b[0m\u001b[1;33m(\u001b[0m\u001b[1;33m)\u001b[0m\u001b[1;33m\u001b[0m\u001b[1;33m\u001b[0m\u001b[0m\n\u001b[0;32m    293\u001b[0m \u001b[1;33m\u001b[0m\u001b[0m\n\u001b[1;32m--> 294\u001b[1;33m             \u001b[0mbatch_outs\u001b[0m \u001b[1;33m=\u001b[0m \u001b[0mf\u001b[0m\u001b[1;33m(\u001b[0m\u001b[0mins_batch\u001b[0m\u001b[1;33m)\u001b[0m\u001b[1;33m\u001b[0m\u001b[1;33m\u001b[0m\u001b[0m\n\u001b[0m\u001b[0;32m    295\u001b[0m             \u001b[0mbatch_outs\u001b[0m \u001b[1;33m=\u001b[0m \u001b[0mto_list\u001b[0m\u001b[1;33m(\u001b[0m\u001b[0mbatch_outs\u001b[0m\u001b[1;33m)\u001b[0m\u001b[1;33m\u001b[0m\u001b[1;33m\u001b[0m\u001b[0m\n\u001b[0;32m    296\u001b[0m             \u001b[1;32mif\u001b[0m \u001b[0mbatch_index\u001b[0m \u001b[1;33m==\u001b[0m \u001b[1;36m0\u001b[0m\u001b[1;33m:\u001b[0m\u001b[1;33m\u001b[0m\u001b[1;33m\u001b[0m\u001b[0m\n",
      "\u001b[1;32m~\\AppData\\Local\\Continuum\\anaconda3\\envs\\DLENV\\lib\\site-packages\\keras\\backend\\tensorflow_backend.py\u001b[0m in \u001b[0;36m__call__\u001b[1;34m(self, inputs)\u001b[0m\n\u001b[0;32m   2713\u001b[0m                 \u001b[1;32mreturn\u001b[0m \u001b[0mself\u001b[0m\u001b[1;33m.\u001b[0m\u001b[0m_legacy_call\u001b[0m\u001b[1;33m(\u001b[0m\u001b[0minputs\u001b[0m\u001b[1;33m)\u001b[0m\u001b[1;33m\u001b[0m\u001b[1;33m\u001b[0m\u001b[0m\n\u001b[0;32m   2714\u001b[0m \u001b[1;33m\u001b[0m\u001b[0m\n\u001b[1;32m-> 2715\u001b[1;33m             \u001b[1;32mreturn\u001b[0m \u001b[0mself\u001b[0m\u001b[1;33m.\u001b[0m\u001b[0m_call\u001b[0m\u001b[1;33m(\u001b[0m\u001b[0minputs\u001b[0m\u001b[1;33m)\u001b[0m\u001b[1;33m\u001b[0m\u001b[1;33m\u001b[0m\u001b[0m\n\u001b[0m\u001b[0;32m   2716\u001b[0m         \u001b[1;32melse\u001b[0m\u001b[1;33m:\u001b[0m\u001b[1;33m\u001b[0m\u001b[1;33m\u001b[0m\u001b[0m\n\u001b[0;32m   2717\u001b[0m             \u001b[1;32mif\u001b[0m \u001b[0mpy_any\u001b[0m\u001b[1;33m(\u001b[0m\u001b[0mis_tensor\u001b[0m\u001b[1;33m(\u001b[0m\u001b[0mx\u001b[0m\u001b[1;33m)\u001b[0m \u001b[1;32mfor\u001b[0m \u001b[0mx\u001b[0m \u001b[1;32min\u001b[0m \u001b[0minputs\u001b[0m\u001b[1;33m)\u001b[0m\u001b[1;33m:\u001b[0m\u001b[1;33m\u001b[0m\u001b[1;33m\u001b[0m\u001b[0m\n",
      "\u001b[1;32m~\\AppData\\Local\\Continuum\\anaconda3\\envs\\DLENV\\lib\\site-packages\\keras\\backend\\tensorflow_backend.py\u001b[0m in \u001b[0;36m_call\u001b[1;34m(self, inputs)\u001b[0m\n\u001b[0;32m   2673\u001b[0m             \u001b[0mfetched\u001b[0m \u001b[1;33m=\u001b[0m \u001b[0mself\u001b[0m\u001b[1;33m.\u001b[0m\u001b[0m_callable_fn\u001b[0m\u001b[1;33m(\u001b[0m\u001b[1;33m*\u001b[0m\u001b[0marray_vals\u001b[0m\u001b[1;33m,\u001b[0m \u001b[0mrun_metadata\u001b[0m\u001b[1;33m=\u001b[0m\u001b[0mself\u001b[0m\u001b[1;33m.\u001b[0m\u001b[0mrun_metadata\u001b[0m\u001b[1;33m)\u001b[0m\u001b[1;33m\u001b[0m\u001b[1;33m\u001b[0m\u001b[0m\n\u001b[0;32m   2674\u001b[0m         \u001b[1;32melse\u001b[0m\u001b[1;33m:\u001b[0m\u001b[1;33m\u001b[0m\u001b[1;33m\u001b[0m\u001b[0m\n\u001b[1;32m-> 2675\u001b[1;33m             \u001b[0mfetched\u001b[0m \u001b[1;33m=\u001b[0m \u001b[0mself\u001b[0m\u001b[1;33m.\u001b[0m\u001b[0m_callable_fn\u001b[0m\u001b[1;33m(\u001b[0m\u001b[1;33m*\u001b[0m\u001b[0marray_vals\u001b[0m\u001b[1;33m)\u001b[0m\u001b[1;33m\u001b[0m\u001b[1;33m\u001b[0m\u001b[0m\n\u001b[0m\u001b[0;32m   2676\u001b[0m         \u001b[1;32mreturn\u001b[0m \u001b[0mfetched\u001b[0m\u001b[1;33m[\u001b[0m\u001b[1;33m:\u001b[0m\u001b[0mlen\u001b[0m\u001b[1;33m(\u001b[0m\u001b[0mself\u001b[0m\u001b[1;33m.\u001b[0m\u001b[0moutputs\u001b[0m\u001b[1;33m)\u001b[0m\u001b[1;33m]\u001b[0m\u001b[1;33m\u001b[0m\u001b[1;33m\u001b[0m\u001b[0m\n\u001b[0;32m   2677\u001b[0m \u001b[1;33m\u001b[0m\u001b[0m\n",
      "\u001b[1;32m~\\AppData\\Local\\Continuum\\anaconda3\\envs\\DLENV\\lib\\site-packages\\tensorflow\\python\\client\\session.py\u001b[0m in \u001b[0;36m__call__\u001b[1;34m(self, *args)\u001b[0m\n\u001b[0;32m   1449\u001b[0m         \u001b[1;32mif\u001b[0m \u001b[0mself\u001b[0m\u001b[1;33m.\u001b[0m\u001b[0m_session\u001b[0m\u001b[1;33m.\u001b[0m\u001b[0m_created_with_new_api\u001b[0m\u001b[1;33m:\u001b[0m\u001b[1;33m\u001b[0m\u001b[1;33m\u001b[0m\u001b[0m\n\u001b[0;32m   1450\u001b[0m           return tf_session.TF_SessionRunCallable(\n\u001b[1;32m-> 1451\u001b[1;33m               self._session._session, self._handle, args, status, None)\n\u001b[0m\u001b[0;32m   1452\u001b[0m         \u001b[1;32melse\u001b[0m\u001b[1;33m:\u001b[0m\u001b[1;33m\u001b[0m\u001b[1;33m\u001b[0m\u001b[0m\n\u001b[0;32m   1453\u001b[0m           return tf_session.TF_DeprecatedSessionRunCallable(\n",
      "\u001b[1;31mKeyboardInterrupt\u001b[0m: "
     ]
    }
   ],
   "source": [
    "\"\"\"The model was trained with very low learning rate for 25000 epochs. It was stopped when validation accuracy crossed 94% threshold\n",
    "    set by me. For submission, I have trained the model again for a few epochs to demonstrate its working.\"\"\"\n",
    "#Training loop\n",
    "eval_every = 10 # Interval for evaluating one-shot tasks\n",
    "loss_every = 50 # No. of epochs to print loss after\n",
    "batch_size = 256 \n",
    "epochs = 90000\n",
    "N_way = 20 # Classes for testing one-shot tasks\n",
    "n_val = 250 # No. of one-shot tasks to validate on\n",
    "best = -1\n",
    "weights_path = os.path.join(path,\"weights\")\n",
    "print(\"training\")\n",
    "for i in range(1,epochs):\n",
    "    # Get inputs and targets form training dataset\n",
    "    (ips,tgts) = loader.get_batch(batch_size)\n",
    "    \n",
    "    #train the siamese model we created above on this batch\n",
    "    loss = siamese.train_on_batch(ips,tgts)\n",
    "    print(loss)\n",
    "    \n",
    "    # Evaluate performance on validation set every 10 epochs and save the weights if and only if current validation metrics\n",
    "    # are better than all previous validation metrics. \n",
    "    if i%eval_every == 0:\n",
    "        print(\"evaluating\")\n",
    "        val_acc = loader.test_oneshot(siamese,N_way,n_val,verbose=True)\n",
    "        if val_acc >= best:\n",
    "            print(\"saving model\")\n",
    "            siamese.save(weights_path)\n",
    "            best = val_acc\n",
    "            \n",
    "    # Display no. of epochs every 50 epochs and show loss at that step\n",
    "    if i%loss_every == 0:\n",
    "        print(\"Epoch {}, training loss: {:.2f},\".format(i,loss))"
   ]
  },
  {
   "cell_type": "code",
   "execution_count": null,
   "metadata": {},
   "outputs": [],
   "source": [
    "# The code below this was executed on a well trained network with maximum of 94% accuracy. \n",
    "# Hence, I am not runnning the modules below for submission. But they have been run previously."
   ]
  },
  {
   "cell_type": "code",
   "execution_count": 23,
   "metadata": {},
   "outputs": [
    {
     "name": "stdout",
     "output_type": "stream",
     "text": [
      "Evaluating model on 450 random 1 way one-shot learning tasks ...\n",
      "Got an avg of 100.0% 1 way one-shot learning accuracy\n",
      "Evaluating model on 450 random 1 way one-shot learning tasks ...\n",
      "Got an avg of 100.0% 1 way one-shot learning accuracy\n",
      "Evaluating model on 450 random 3 way one-shot learning tasks ...\n",
      "Got an avg of 98.44444444444444% 3 way one-shot learning accuracy\n",
      "Evaluating model on 450 random 3 way one-shot learning tasks ...\n",
      "Got an avg of 100.0% 3 way one-shot learning accuracy\n",
      "Evaluating model on 450 random 5 way one-shot learning tasks ...\n",
      "Got an avg of 95.11111111111111% 5 way one-shot learning accuracy\n",
      "Evaluating model on 450 random 5 way one-shot learning tasks ...\n",
      "Got an avg of 99.55555555555556% 5 way one-shot learning accuracy\n",
      "Evaluating model on 450 random 7 way one-shot learning tasks ...\n",
      "Got an avg of 94.0% 7 way one-shot learning accuracy\n",
      "Evaluating model on 450 random 7 way one-shot learning tasks ...\n",
      "Got an avg of 99.55555555555556% 7 way one-shot learning accuracy\n",
      "Evaluating model on 450 random 9 way one-shot learning tasks ...\n",
      "Got an avg of 92.66666666666667% 9 way one-shot learning accuracy\n",
      "Evaluating model on 450 random 9 way one-shot learning tasks ...\n",
      "Got an avg of 99.77777777777777% 9 way one-shot learning accuracy\n",
      "Evaluating model on 450 random 11 way one-shot learning tasks ...\n",
      "Got an avg of 94.22222222222223% 11 way one-shot learning accuracy\n",
      "Evaluating model on 450 random 11 way one-shot learning tasks ...\n",
      "Got an avg of 99.77777777777777% 11 way one-shot learning accuracy\n",
      "Evaluating model on 450 random 13 way one-shot learning tasks ...\n",
      "Got an avg of 90.88888888888889% 13 way one-shot learning accuracy\n",
      "Evaluating model on 450 random 13 way one-shot learning tasks ...\n",
      "Got an avg of 99.11111111111111% 13 way one-shot learning accuracy\n",
      "Evaluating model on 450 random 15 way one-shot learning tasks ...\n",
      "Got an avg of 89.55555555555556% 15 way one-shot learning accuracy\n",
      "Evaluating model on 450 random 15 way one-shot learning tasks ...\n",
      "Got an avg of 99.77777777777777% 15 way one-shot learning accuracy\n",
      "Evaluating model on 450 random 17 way one-shot learning tasks ...\n",
      "Got an avg of 88.88888888888889% 17 way one-shot learning accuracy\n",
      "Evaluating model on 450 random 17 way one-shot learning tasks ...\n",
      "Got an avg of 99.11111111111111% 17 way one-shot learning accuracy\n",
      "Evaluating model on 450 random 19 way one-shot learning tasks ...\n",
      "Got an avg of 84.88888888888889% 19 way one-shot learning accuracy\n",
      "Evaluating model on 450 random 19 way one-shot learning tasks ...\n",
      "Got an avg of 99.77777777777777% 19 way one-shot learning accuracy\n",
      "Evaluating model on 450 random 21 way one-shot learning tasks ...\n",
      "Got an avg of 86.88888888888889% 21 way one-shot learning accuracy\n",
      "Evaluating model on 450 random 21 way one-shot learning tasks ...\n",
      "Got an avg of 98.88888888888889% 21 way one-shot learning accuracy\n",
      "Evaluating model on 450 random 23 way one-shot learning tasks ...\n",
      "Got an avg of 84.0% 23 way one-shot learning accuracy\n",
      "Evaluating model on 450 random 23 way one-shot learning tasks ...\n",
      "Got an avg of 98.44444444444444% 23 way one-shot learning accuracy\n",
      "Evaluating model on 450 random 25 way one-shot learning tasks ...\n",
      "Got an avg of 86.22222222222223% 25 way one-shot learning accuracy\n",
      "Evaluating model on 450 random 25 way one-shot learning tasks ...\n",
      "Got an avg of 98.66666666666667% 25 way one-shot learning accuracy\n",
      "Evaluating model on 450 random 27 way one-shot learning tasks ...\n",
      "Got an avg of 85.11111111111111% 27 way one-shot learning accuracy\n",
      "Evaluating model on 450 random 27 way one-shot learning tasks ...\n",
      "Got an avg of 99.33333333333333% 27 way one-shot learning accuracy\n",
      "Evaluating model on 450 random 29 way one-shot learning tasks ...\n",
      "Got an avg of 83.55555555555556% 29 way one-shot learning accuracy\n",
      "Evaluating model on 450 random 29 way one-shot learning tasks ...\n",
      "Got an avg of 99.33333333333333% 29 way one-shot learning accuracy\n",
      "Evaluating model on 450 random 31 way one-shot learning tasks ...\n",
      "Got an avg of 89.55555555555556% 31 way one-shot learning accuracy\n",
      "Evaluating model on 450 random 31 way one-shot learning tasks ...\n",
      "Got an avg of 97.55555555555556% 31 way one-shot learning accuracy\n",
      "Evaluating model on 450 random 33 way one-shot learning tasks ...\n",
      "Got an avg of 80.22222222222223% 33 way one-shot learning accuracy\n",
      "Evaluating model on 450 random 33 way one-shot learning tasks ...\n",
      "Got an avg of 98.22222222222223% 33 way one-shot learning accuracy\n",
      "Evaluating model on 450 random 35 way one-shot learning tasks ...\n",
      "Got an avg of 82.66666666666667% 35 way one-shot learning accuracy\n",
      "Evaluating model on 450 random 35 way one-shot learning tasks ...\n",
      "Got an avg of 98.22222222222223% 35 way one-shot learning accuracy\n",
      "Evaluating model on 450 random 37 way one-shot learning tasks ...\n",
      "Got an avg of 80.44444444444444% 37 way one-shot learning accuracy\n",
      "Evaluating model on 450 random 37 way one-shot learning tasks ...\n",
      "Got an avg of 98.44444444444444% 37 way one-shot learning accuracy\n",
      "Evaluating model on 450 random 39 way one-shot learning tasks ...\n",
      "Got an avg of 81.55555555555556% 39 way one-shot learning accuracy\n",
      "Evaluating model on 450 random 39 way one-shot learning tasks ...\n",
      "Got an avg of 99.11111111111111% 39 way one-shot learning accuracy\n",
      "Evaluating model on 450 random 41 way one-shot learning tasks ...\n",
      "Got an avg of 76.22222222222223% 41 way one-shot learning accuracy\n",
      "Evaluating model on 450 random 41 way one-shot learning tasks ...\n",
      "Got an avg of 97.77777777777777% 41 way one-shot learning accuracy\n",
      "Evaluating model on 450 random 43 way one-shot learning tasks ...\n",
      "Got an avg of 79.55555555555556% 43 way one-shot learning accuracy\n",
      "Evaluating model on 450 random 43 way one-shot learning tasks ...\n",
      "Got an avg of 97.11111111111111% 43 way one-shot learning accuracy\n",
      "Evaluating model on 450 random 45 way one-shot learning tasks ...\n",
      "Got an avg of 80.0% 45 way one-shot learning accuracy\n",
      "Evaluating model on 450 random 45 way one-shot learning tasks ...\n",
      "Got an avg of 97.77777777777777% 45 way one-shot learning accuracy\n",
      "Evaluating model on 450 random 47 way one-shot learning tasks ...\n",
      "Got an avg of 79.11111111111111% 47 way one-shot learning accuracy\n",
      "Evaluating model on 450 random 47 way one-shot learning tasks ...\n",
      "Got an avg of 98.66666666666667% 47 way one-shot learning accuracy\n",
      "Evaluating model on 450 random 49 way one-shot learning tasks ...\n",
      "Got an avg of 77.55555555555556% 49 way one-shot learning accuracy\n",
      "Evaluating model on 450 random 49 way one-shot learning tasks ...\n",
      "Got an avg of 97.11111111111111% 49 way one-shot learning accuracy\n",
      "Evaluating model on 450 random 51 way one-shot learning tasks ...\n",
      "Got an avg of 76.66666666666667% 51 way one-shot learning accuracy\n",
      "Evaluating model on 450 random 51 way one-shot learning tasks ...\n",
      "Got an avg of 97.55555555555556% 51 way one-shot learning accuracy\n",
      "Evaluating model on 450 random 53 way one-shot learning tasks ...\n",
      "Got an avg of 76.88888888888889% 53 way one-shot learning accuracy\n",
      "Evaluating model on 450 random 53 way one-shot learning tasks ...\n",
      "Got an avg of 97.77777777777777% 53 way one-shot learning accuracy\n",
      "Evaluating model on 450 random 55 way one-shot learning tasks ...\n",
      "Got an avg of 72.88888888888889% 55 way one-shot learning accuracy\n",
      "Evaluating model on 450 random 55 way one-shot learning tasks ...\n",
      "Got an avg of 98.66666666666667% 55 way one-shot learning accuracy\n",
      "Evaluating model on 450 random 57 way one-shot learning tasks ...\n",
      "Got an avg of 78.88888888888889% 57 way one-shot learning accuracy\n",
      "Evaluating model on 450 random 57 way one-shot learning tasks ...\n",
      "Got an avg of 98.44444444444444% 57 way one-shot learning accuracy\n",
      "Evaluating model on 450 random 59 way one-shot learning tasks ...\n",
      "Got an avg of 70.88888888888889% 59 way one-shot learning accuracy\n",
      "Evaluating model on 450 random 59 way one-shot learning tasks ...\n",
      "Got an avg of 98.88888888888889% 59 way one-shot learning accuracy\n"
     ]
    },
    {
     "data": {
      "image/png": "[encoded data removed]",
      "text/plain": [
       "<Figure size 432x288 with 1 Axes>"
      ]
     },
     "metadata": {
      "needs_background": "light"
     },
     "output_type": "display_data"
    }
   ],
   "source": [
    "ways = np.arange(1, 60, 2)\n",
    "resume =  False\n",
    "val_accs, train_accs = [], []\n",
    "trials = 450\n",
    "for N in ways:\n",
    "    val_accs.append(loader.test_oneshot(siamese, N,trials, \"val\", verbose=True))\n",
    "    train_accs.append(loader.test_oneshot(siamese, N,trials, \"train\", verbose=True))\n",
    "    \n",
    "#plot the accuracy vs num categories for each\n",
    "plt.plot(ways, val_accs, \"m\")\n",
    "plt.plot(ways, train_accs, \"y\")\n",
    "\n",
    "plt.plot(ways,100.0/ways,\"r\")\n",
    "plt.show()"
   ]
  },
  {
   "cell_type": "code",
   "execution_count": 24,
   "metadata": {},
   "outputs": [
    {
     "data": {
      "image/png": "[encoded data removed]",
      "text/plain": [
       "<Figure size 432x288 with 1 Axes>"
      ]
     },
     "metadata": {
      "needs_background": "light"
     },
     "output_type": "display_data"
    }
   ],
   "source": [
    "\"\"\"Plot the values from the training and validation sets to look at how the model performs on N different bunch of images.\"\"\"\n",
    "fig,ax = plt.subplots(1)\n",
    "ax.plot(ways,val_accs,\"m\",label=\"Siamese(val set)\")\n",
    "ax.plot(ways,train_accs,\"y\",label=\"Siamese(train set)\")\n",
    "\n",
    "ax.plot(ways,100.0/ways,\"g\",label=\"Random guessing\")\n",
    "plt.xlabel(\"Number of possible classes in one-shot tasks\")\n",
    "plt.ylabel(\"% Accuracy\")\n",
    "plt.title(\"Omiglot One-Shot Learning Performance of a Siamese Network\")\n",
    "box = ax.get_position()\n",
    "ax.set_position([box.x0, box.y0, box.width * 0.8, box.height])\n",
    "ax.legend(loc='center left', bbox_to_anchor=(1, 0.5))\n",
    "inputs,targets = loader.make_oneshot_task(20,\"val\")\n",
    "plt.show()"
   ]
  },
  {
   "cell_type": "code",
   "execution_count": 22,
   "metadata": {},
   "outputs": [
    {
     "name": "stdout",
     "output_type": "stream",
     "text": [
      "(20, 105, 105, 1)\n"
     ]
    },
    {
     "data": {
      "image/png": "[encoded data removed]",
      "text/plain": [
       "<Figure size 432x288 with 2 Axes>"
      ]
     },
     "metadata": {
      "needs_background": "light"
     },
     "output_type": "display_data"
    },
    {
     "name": "stdout",
     "output_type": "stream",
     "text": [
      "[[1.7006201e-04]\n",
      " [7.0032102e-06]\n",
      " [8.8159089e-07]\n",
      " [4.6345082e-07]\n",
      " [2.3051680e-03]\n",
      " [1.1227354e-05]\n",
      " [8.9493529e-05]\n",
      " [2.1000413e-05]\n",
      " [1.2000882e-04]\n",
      " [7.2259759e-06]\n",
      " [9.3690833e-06]\n",
      " [4.8009738e-08]\n",
      " [1.3810607e-03]\n",
      " [4.5574945e-04]\n",
      " [7.4376434e-01]\n",
      " [2.1682293e-03]\n",
      " [4.0453480e-07]\n",
      " [2.2965687e-04]\n",
      " [1.8041790e-04]\n",
      " [2.9626768e-09]]\n"
     ]
    }
   ],
   "source": [
    "# Running a 20-way one-shot task on the symbol below, we can see that 15th entry has the highest activation value - 0.74\n",
    "# Signifying that the input symbol matches with the 15th one.\n",
    "# On the other hand, the last symbol looks nowhere near to the current symbol and has the lowest activation score - 2.9e-9\n",
    "# By looking at the values below, we can quite surely confirm that the Siamese Neural Network can work very well on data it hasn't\n",
    "# even seen before.\n",
    "print(inputs[0].shape)\n",
    "plot_oneshot_task(inputs)\n",
    "p=siamese.predict(inputs)\n",
    "print(p)"
   ]
  },
  {
   "cell_type": "code",
   "execution_count": null,
   "metadata": {},
   "outputs": [],
   "source": [
    " "
   ]
  }
 ],
 "metadata": {
  "kernelspec": {
   "display_name": "Python 3",
   "language": "python",
   "name": "python3"
  },
  "language_info": {
   "codemirror_mode": {
    "name": "ipython",
    "version": 3
   },
   "file_extension": ".py",
   "mimetype": "text/x-python",
   "name": "python",
   "nbconvert_exporter": "python",
   "pygments_lexer": "ipython3",
   "version": "3.6.8"
  }
 },
 "nbformat": 4,
 "nbformat_minor": 2
}
